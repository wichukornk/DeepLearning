{
 "cells": [
  {
   "cell_type": "code",
   "execution_count": 1,
   "id": "0912921b-486f-40de-b58b-9b3318be6e38",
   "metadata": {},
   "outputs": [
    {
     "name": "stderr",
     "output_type": "stream",
     "text": [
      "2023-03-16 06:37:46.058137: I tensorflow/core/platform/cpu_feature_guard.cc:193] This TensorFlow binary is optimized with oneAPI Deep Neural Network Library (oneDNN) to use the following CPU instructions in performance-critical operations:  SSE4.1 SSE4.2\n",
      "To enable them in other operations, rebuild TensorFlow with the appropriate compiler flags.\n"
     ]
    }
   ],
   "source": [
    "from tensorflow import keras\n",
    "from tensorflow.keras.datasets import imdb\n",
    "import numpy as np\n",
    "from sklearn.preprocessing import MultiLabelBinarizer"
   ]
  },
  {
   "cell_type": "code",
   "execution_count": 2,
   "id": "3760b2c7-79ce-402d-8f12-76dfec274613",
   "metadata": {},
   "outputs": [],
   "source": [
    "# load data\n",
    "\n",
    "(train_data, train_label), (test_data, test_label) = imdb.load_data(num_words=10_000)"
   ]
  },
  {
   "cell_type": "code",
   "execution_count": 3,
   "id": "8a739c77-cff2-4daa-813c-02dcdf264366",
   "metadata": {},
   "outputs": [
    {
     "name": "stdout",
     "output_type": "stream",
     "text": [
      "[1, 14, 22, 16, 43, 530, 973, 1622, 1385, 65, 458, 4468, 66, 3941, 4, 173, 36, 256, 5, 25, 100, 43, 838, 112, 50, 670, 2, 9, 35, 480, 284, 5, 150, 4, 172, 112, 167, 2, 336, 385, 39, 4, 172, 4536, 1111, 17, 546, 38, 13, 447, 4, 192, 50, 16, 6, 147, 2025, 19, 14, 22, 4, 1920, 4613, 469, 4, 22, 71, 87, 12, 16, 43, 530, 38, 76, 15, 13, 1247, 4, 22, 17, 515, 17, 12, 16, 626, 18, 2, 5, 62, 386, 12, 8, 316, 8, 106, 5, 4, 2223, 5244, 16, 480, 66, 3785, 33, 4, 130, 12, 16, 38, 619, 5, 25, 124, 51, 36, 135, 48, 25, 1415, 33, 6, 22, 12, 215, 28, 77, 52, 5, 14, 407, 16, 82, 2, 8, 4, 107, 117, 5952, 15, 256, 4, 2, 7, 3766, 5, 723, 36, 71, 43, 530, 476, 26, 400, 317, 46, 7, 4, 2, 1029, 13, 104, 88, 4, 381, 15, 297, 98, 32, 2071, 56, 26, 141, 6, 194, 7486, 18, 4, 226, 22, 21, 134, 476, 26, 480, 5, 144, 30, 5535, 18, 51, 36, 28, 224, 92, 25, 104, 4, 226, 65, 16, 38, 1334, 88, 12, 16, 283, 5, 16, 4472, 113, 103, 32, 15, 16, 5345, 19, 178, 32]\n"
     ]
    }
   ],
   "source": [
    "print(train_data[0])"
   ]
  },
  {
   "cell_type": "code",
   "execution_count": 4,
   "id": "c243e8db-0169-447c-866e-d8a28651d616",
   "metadata": {},
   "outputs": [],
   "source": [
    "# Decoding indice to word\n",
    "\n",
    "word_index = imdb.get_word_index()\n",
    "\n",
    "reverse_word_index = dict([(value,key) for (key, value) in word_index.items()])\n",
    "\n",
    "decoded_review = \" \".join(\n",
    "    [reverse_word_index.get(i-3,'?') for i in train_data[0]] # indeice are offset by 3 reserve for padding, start of sequence, unknow\n",
    ")"
   ]
  },
  {
   "cell_type": "code",
   "execution_count": 5,
   "id": "fb633092-5aba-46fd-b79d-fd6299c3a01c",
   "metadata": {},
   "outputs": [
    {
     "data": {
      "text/plain": [
       "\"? this film was just brilliant casting location scenery story direction everyone's really suited the part they played and you could just imagine being there robert ? is an amazing actor and now the same being director ? father came from the same scottish island as myself so i loved the fact there was a real connection with this film the witty remarks throughout the film were great it was just brilliant so much that i bought the film as soon as it was released for ? and would recommend it to everyone to watch and the fly fishing was amazing really cried at the end it was so sad and you know what they say if you cry at a film it must have been good and this definitely was also ? to the two little boy's that played the ? of norman and paul they were just brilliant children are often left out of the ? list i think because the stars that play them all grown up are such a big profile for the whole film but these children are amazing and should be praised for what they have done don't you think the whole story was so lovely because it was true and was someone's life after all that was shared with us all\""
      ]
     },
     "execution_count": 5,
     "metadata": {},
     "output_type": "execute_result"
    }
   ],
   "source": [
    "decoded_review"
   ]
  },
  {
   "cell_type": "code",
   "execution_count": 6,
   "id": "1b474b66-2d68-4abe-b4f5-cbbb63e16067",
   "metadata": {},
   "outputs": [],
   "source": [
    "# multi-hot encoder\n",
    "\n",
    "mlb = MultiLabelBinarizer(classes=np.array(range(0,10_000)))\n",
    "X_train = mlb.fit_transform(train_data)\n",
    "X_test = mlb.transform(test_data)"
   ]
  },
  {
   "cell_type": "code",
   "execution_count": 7,
   "id": "17c752fd-5c2d-46b7-a9e7-db63aed2415a",
   "metadata": {},
   "outputs": [
    {
     "data": {
      "text/plain": [
       "array([0, 1, 1, ..., 0, 0, 0])"
      ]
     },
     "execution_count": 7,
     "metadata": {},
     "output_type": "execute_result"
    }
   ],
   "source": [
    "X_train[0]"
   ]
  },
  {
   "cell_type": "code",
   "execution_count": 8,
   "id": "a7073eb1-11ee-4cd4-af61-0752b1e77510",
   "metadata": {},
   "outputs": [],
   "source": [
    "y_train = np.asarray(train_label).astype(\"float32\")\n",
    "y_test = np.asarray(test_label).astype(\"float32\")"
   ]
  },
  {
   "cell_type": "code",
   "execution_count": 9,
   "id": "ccd54b63-239d-4d26-bd92-29b388f6bf05",
   "metadata": {},
   "outputs": [
    {
     "name": "stderr",
     "output_type": "stream",
     "text": [
      "2023-03-16 06:49:30.421254: I tensorflow/core/platform/cpu_feature_guard.cc:193] This TensorFlow binary is optimized with oneAPI Deep Neural Network Library (oneDNN) to use the following CPU instructions in performance-critical operations:  SSE4.1 SSE4.2\n",
      "To enable them in other operations, rebuild TensorFlow with the appropriate compiler flags.\n"
     ]
    }
   ],
   "source": [
    "model = keras.Sequential(\n",
    "    [keras.layers.Dense(16, activation='relu'),\n",
    "    keras.layers.Dense(16, activation='relu'),\n",
    "    keras.layers.Dense(1, activation='sigmoid')]\n",
    ")"
   ]
  },
  {
   "cell_type": "code",
   "execution_count": 10,
   "id": "83b13874-456c-4c61-a66e-5d70b4f17771",
   "metadata": {},
   "outputs": [],
   "source": [
    "model.compile(\n",
    "    optimizer='rmsprop',\n",
    "    loss='binary_crossentropy',\n",
    "    metrics=['accuracy']\n",
    ")"
   ]
  },
  {
   "cell_type": "code",
   "execution_count": 11,
   "id": "86843511-fd78-4994-8a19-29029ccdcb7c",
   "metadata": {},
   "outputs": [],
   "source": [
    "# validation set\n",
    "\n",
    "X_val = X_train[:10_000]\n",
    "partial_X_train = X_train[10_000:]\n",
    "y_val = y_train[:10_000]\n",
    "partial_y_train = y_train[10_000:]"
   ]
  },
  {
   "cell_type": "code",
   "execution_count": 12,
   "id": "349cff00-fd02-4d2f-8c0a-15331ff2ce55",
   "metadata": {},
   "outputs": [
    {
     "name": "stdout",
     "output_type": "stream",
     "text": [
      "Epoch 1/20\n",
      "30/30 [==============================] - 1s 26ms/step - loss: 0.5345 - accuracy: 0.7909 - val_loss: 0.4291 - val_accuracy: 0.8533\n",
      "Epoch 2/20\n",
      "30/30 [==============================] - 0s 9ms/step - loss: 0.3372 - accuracy: 0.8997 - val_loss: 0.3225 - val_accuracy: 0.8862\n",
      "Epoch 3/20\n",
      "30/30 [==============================] - 0s 9ms/step - loss: 0.2452 - accuracy: 0.9219 - val_loss: 0.2900 - val_accuracy: 0.8880\n",
      "Epoch 4/20\n",
      "30/30 [==============================] - 0s 9ms/step - loss: 0.1945 - accuracy: 0.9363 - val_loss: 0.2814 - val_accuracy: 0.8864\n",
      "Epoch 5/20\n",
      "30/30 [==============================] - 0s 9ms/step - loss: 0.1575 - accuracy: 0.9507 - val_loss: 0.3001 - val_accuracy: 0.8808\n",
      "Epoch 6/20\n",
      "30/30 [==============================] - 0s 8ms/step - loss: 0.1339 - accuracy: 0.9578 - val_loss: 0.2959 - val_accuracy: 0.8841\n",
      "Epoch 7/20\n",
      "30/30 [==============================] - 0s 8ms/step - loss: 0.1124 - accuracy: 0.9670 - val_loss: 0.3156 - val_accuracy: 0.8816\n",
      "Epoch 8/20\n",
      "30/30 [==============================] - 0s 8ms/step - loss: 0.0950 - accuracy: 0.9725 - val_loss: 0.3135 - val_accuracy: 0.8812\n",
      "Epoch 9/20\n",
      "30/30 [==============================] - 0s 8ms/step - loss: 0.0800 - accuracy: 0.9785 - val_loss: 0.3341 - val_accuracy: 0.8798\n",
      "Epoch 10/20\n",
      "30/30 [==============================] - 0s 8ms/step - loss: 0.0697 - accuracy: 0.9801 - val_loss: 0.3489 - val_accuracy: 0.8810\n",
      "Epoch 11/20\n",
      "30/30 [==============================] - 0s 8ms/step - loss: 0.0569 - accuracy: 0.9852 - val_loss: 0.3669 - val_accuracy: 0.8798\n",
      "Epoch 12/20\n",
      "30/30 [==============================] - 0s 9ms/step - loss: 0.0495 - accuracy: 0.9876 - val_loss: 0.4012 - val_accuracy: 0.8785\n",
      "Epoch 13/20\n",
      "30/30 [==============================] - 0s 8ms/step - loss: 0.0380 - accuracy: 0.9920 - val_loss: 0.4197 - val_accuracy: 0.8752\n",
      "Epoch 14/20\n",
      "30/30 [==============================] - 0s 8ms/step - loss: 0.0336 - accuracy: 0.9935 - val_loss: 0.4490 - val_accuracy: 0.8748\n",
      "Epoch 15/20\n",
      "30/30 [==============================] - 0s 8ms/step - loss: 0.0257 - accuracy: 0.9957 - val_loss: 0.4759 - val_accuracy: 0.8738\n",
      "Epoch 16/20\n",
      "30/30 [==============================] - 0s 8ms/step - loss: 0.0217 - accuracy: 0.9969 - val_loss: 0.5404 - val_accuracy: 0.8609\n",
      "Epoch 17/20\n",
      "30/30 [==============================] - 0s 8ms/step - loss: 0.0181 - accuracy: 0.9973 - val_loss: 0.5421 - val_accuracy: 0.8683\n",
      "Epoch 18/20\n",
      "30/30 [==============================] - 0s 8ms/step - loss: 0.0128 - accuracy: 0.9989 - val_loss: 0.6114 - val_accuracy: 0.8591\n",
      "Epoch 19/20\n",
      "30/30 [==============================] - 0s 8ms/step - loss: 0.0112 - accuracy: 0.9993 - val_loss: 0.6085 - val_accuracy: 0.8675\n",
      "Epoch 20/20\n",
      "30/30 [==============================] - 0s 8ms/step - loss: 0.0090 - accuracy: 0.9993 - val_loss: 0.6437 - val_accuracy: 0.8648\n"
     ]
    }
   ],
   "source": [
    "hist = model.fit(\n",
    "    partial_X_train,\n",
    "    partial_y_train,\n",
    "    epochs=20,\n",
    "    batch_size=512,\n",
    "    validation_data=(X_val,y_val)\n",
    ")"
   ]
  },
  {
   "cell_type": "code",
   "execution_count": 13,
   "id": "11c5dd2f-d639-4913-a5a9-b1f2cb90e617",
   "metadata": {},
   "outputs": [],
   "source": [
    "import pandas as pd\n",
    "\n",
    "hist_df = pd.DataFrame(hist.history)"
   ]
  },
  {
   "cell_type": "code",
   "execution_count": 14,
   "id": "1758858c-b514-4bf8-a33c-7c852e303432",
   "metadata": {},
   "outputs": [
    {
     "data": {
      "text/html": [
       "<div>\n",
       "<style scoped>\n",
       "    .dataframe tbody tr th:only-of-type {\n",
       "        vertical-align: middle;\n",
       "    }\n",
       "\n",
       "    .dataframe tbody tr th {\n",
       "        vertical-align: top;\n",
       "    }\n",
       "\n",
       "    .dataframe thead th {\n",
       "        text-align: right;\n",
       "    }\n",
       "</style>\n",
       "<table border=\"1\" class=\"dataframe\">\n",
       "  <thead>\n",
       "    <tr style=\"text-align: right;\">\n",
       "      <th></th>\n",
       "      <th>loss</th>\n",
       "      <th>accuracy</th>\n",
       "      <th>val_loss</th>\n",
       "      <th>val_accuracy</th>\n",
       "    </tr>\n",
       "  </thead>\n",
       "  <tbody>\n",
       "    <tr>\n",
       "      <th>0</th>\n",
       "      <td>0.534543</td>\n",
       "      <td>0.790867</td>\n",
       "      <td>0.429117</td>\n",
       "      <td>0.8533</td>\n",
       "    </tr>\n",
       "    <tr>\n",
       "      <th>1</th>\n",
       "      <td>0.337245</td>\n",
       "      <td>0.899667</td>\n",
       "      <td>0.322543</td>\n",
       "      <td>0.8862</td>\n",
       "    </tr>\n",
       "    <tr>\n",
       "      <th>2</th>\n",
       "      <td>0.245203</td>\n",
       "      <td>0.921867</td>\n",
       "      <td>0.289958</td>\n",
       "      <td>0.8880</td>\n",
       "    </tr>\n",
       "    <tr>\n",
       "      <th>3</th>\n",
       "      <td>0.194506</td>\n",
       "      <td>0.936267</td>\n",
       "      <td>0.281399</td>\n",
       "      <td>0.8864</td>\n",
       "    </tr>\n",
       "    <tr>\n",
       "      <th>4</th>\n",
       "      <td>0.157472</td>\n",
       "      <td>0.950733</td>\n",
       "      <td>0.300059</td>\n",
       "      <td>0.8808</td>\n",
       "    </tr>\n",
       "  </tbody>\n",
       "</table>\n",
       "</div>"
      ],
      "text/plain": [
       "       loss  accuracy  val_loss  val_accuracy\n",
       "0  0.534543  0.790867  0.429117        0.8533\n",
       "1  0.337245  0.899667  0.322543        0.8862\n",
       "2  0.245203  0.921867  0.289958        0.8880\n",
       "3  0.194506  0.936267  0.281399        0.8864\n",
       "4  0.157472  0.950733  0.300059        0.8808"
      ]
     },
     "execution_count": 14,
     "metadata": {},
     "output_type": "execute_result"
    }
   ],
   "source": [
    "hist_df.head()"
   ]
  },
  {
   "cell_type": "code",
   "execution_count": 28,
   "id": "e5264a60-24ca-48ba-9e65-4239c12162c9",
   "metadata": {},
   "outputs": [
    {
     "data": {
      "text/plain": [
       "<AxesSubplot: >"
      ]
     },
     "execution_count": 28,
     "metadata": {},
     "output_type": "execute_result"
    },
    {
     "data": {
      "image/png": "[encoded data removed]",
      "text/plain": [
       "<Figure size 640x480 with 1 Axes>"
      ]
     },
     "metadata": {},
     "output_type": "display_data"
    }
   ],
   "source": [
    "hist_df.plot(y=['loss','val_loss'])"
   ]
  },
  {
   "cell_type": "code",
   "execution_count": 15,
   "id": "fed17923-df0e-4486-849e-f500df2f1181",
   "metadata": {},
   "outputs": [
    {
     "name": "stdout",
     "output_type": "stream",
     "text": [
      "Epoch 1/4\n",
      "49/49 [==============================] - 1s 6ms/step - loss: 0.4583 - accuracy: 0.8072\n",
      "Epoch 2/4\n",
      "49/49 [==============================] - 0s 6ms/step - loss: 0.2596 - accuracy: 0.9079\n",
      "Epoch 3/4\n",
      "49/49 [==============================] - 0s 6ms/step - loss: 0.2013 - accuracy: 0.9295\n",
      "Epoch 4/4\n",
      "49/49 [==============================] - 0s 6ms/step - loss: 0.1713 - accuracy: 0.9387\n",
      "782/782 [==============================] - 1s 1ms/step - loss: 0.2984 - accuracy: 0.8812\n"
     ]
    }
   ],
   "source": [
    "# Train only 4 epoch avoid overfit\n",
    "\n",
    "model = keras.Sequential(\n",
    "    [\n",
    "        keras.layers.Dense(16, activation='relu'),\n",
    "        keras.layers.Dense(16, activation='relu'),\n",
    "        keras.layers.Dense(1, activation='sigmoid')\n",
    "    ]\n",
    ")\n",
    "\n",
    "model.compile(\n",
    "    optimizer='rmsprop',\n",
    "    loss='binary_crossentropy',\n",
    "    metrics=['accuracy']\n",
    ")\n",
    "\n",
    "model.fit(X_train, y_train, epochs=4, batch_size=512)\n",
    "results = model.evaluate(X_test, y_test)"
   ]
  },
  {
   "cell_type": "code",
   "execution_count": 16,
   "id": "dc2ecae8-f5a9-4cf9-8401-6058477e25e9",
   "metadata": {},
   "outputs": [
    {
     "data": {
      "text/plain": [
       "[0.29840755462646484, 0.8811600208282471]"
      ]
     },
     "execution_count": 16,
     "metadata": {},
     "output_type": "execute_result"
    }
   ],
   "source": [
    "results"
   ]
  },
  {
   "cell_type": "code",
   "execution_count": 17,
   "id": "d596d9b4-8173-4429-a681-09c8bba52f13",
   "metadata": {},
   "outputs": [
    {
     "name": "stdout",
     "output_type": "stream",
     "text": [
      "Model: \"sequential_1\"\n",
      "_________________________________________________________________\n",
      " Layer (type)                Output Shape              Param #   \n",
      "=================================================================\n",
      " dense_3 (Dense)             (None, 16)                160016    \n",
      "                                                                 \n",
      " dense_4 (Dense)             (None, 16)                272       \n",
      "                                                                 \n",
      " dense_5 (Dense)             (None, 1)                 17        \n",
      "                                                                 \n",
      "=================================================================\n",
      "Total params: 160,305\n",
      "Trainable params: 160,305\n",
      "Non-trainable params: 0\n",
      "_________________________________________________________________\n"
     ]
    }
   ],
   "source": [
    "model.summary()"
   ]
  },
  {
   "cell_type": "code",
   "execution_count": 18,
   "id": "85a10c55-6970-4e87-8a54-77b23d55b9ce",
   "metadata": {},
   "outputs": [
    {
     "name": "stdout",
     "output_type": "stream",
     "text": [
      "782/782 [==============================] - 1s 889us/step\n"
     ]
    },
    {
     "data": {
      "text/plain": [
       "array([[0.2027603 ],\n",
       "       [0.9997251 ],\n",
       "       [0.8835224 ],\n",
       "       ...,\n",
       "       [0.10862482],\n",
       "       [0.05941372],\n",
       "       [0.53421736]], dtype=float32)"
      ]
     },
     "execution_count": 18,
     "metadata": {},
     "output_type": "execute_result"
    }
   ],
   "source": [
    "model.predict(X_test)"
   ]
  },
  {
   "cell_type": "code",
   "execution_count": null,
   "id": "057843fb-5050-40c4-97d4-d7236602f4f6",
   "metadata": {},
   "outputs": [],
   "source": []
  }
 ],
 "metadata": {
  "kernelspec": {
   "display_name": "Python 3 (ipykernel)",
   "language": "python",
   "name": "python3"
  },
  "language_info": {
   "codemirror_mode": {
    "name": "ipython",
    "version": 3
   },
   "file_extension": ".py",
   "mimetype": "text/x-python",
   "name": "python",
   "nbconvert_exporter": "python",
   "pygments_lexer": "ipython3",
   "version": "3.10.8"
  }
 },
 "nbformat": 4,
 "nbformat_minor": 5
}
