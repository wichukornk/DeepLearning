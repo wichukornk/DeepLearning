{
 "cells": [
  {
   "cell_type": "code",
   "execution_count": 16,
   "id": "ae7c047e-b57d-4632-9f38-7ecb12d8d42c",
   "metadata": {},
   "outputs": [],
   "source": [
    "from tensorflow import keras\n",
    "from tensorflow.keras.datasets import imdb\n",
    "import numpy as np\n",
    "import pandas as pd\n",
    "from sklearn.preprocessing import MultiLabelBinarizer\n",
    "from tensorflow.keras.layers import Dense\n",
    "from tensorflow.keras import regularizers"
   ]
  },
  {
   "cell_type": "code",
   "execution_count": 2,
   "id": "a774f860-6023-467c-a552-69b8078a485a",
   "metadata": {},
   "outputs": [],
   "source": [
    "(train_data, train_label),_ = imdb.load_data(num_words=10_000)"
   ]
  },
  {
   "cell_type": "code",
   "execution_count": 3,
   "id": "7f6f5292-da5c-4456-9544-8bc1e399ae77",
   "metadata": {},
   "outputs": [],
   "source": [
    "# multi-hot encoder\n",
    "\n",
    "mlb = MultiLabelBinarizer(classes=np.array(range(0,10_000)))\n",
    "X_train = mlb.fit_transform(train_data)"
   ]
  },
  {
   "cell_type": "code",
   "execution_count": 4,
   "id": "bb699333-cbff-4eb8-8ecb-c4c2bb1ad170",
   "metadata": {},
   "outputs": [
    {
     "data": {
      "text/plain": [
       "array([0, 1, 1, ..., 0, 0, 0])"
      ]
     },
     "execution_count": 4,
     "metadata": {},
     "output_type": "execute_result"
    }
   ],
   "source": [
    "X_train[0]"
   ]
  },
  {
   "cell_type": "code",
   "execution_count": 11,
   "id": "87576614-d202-45e8-8b01-f9aa2e327ffe",
   "metadata": {},
   "outputs": [],
   "source": [
    "model = keras.Sequential()\n",
    "\n",
    "model.add(\n",
    "    Dense(16,\n",
    "          activation=\"relu\"\n",
    "         )\n",
    ")\n",
    "\n",
    "model.add(\n",
    "    Dense(16,\n",
    "          activation=\"relu\"\n",
    "         )\n",
    ")\n",
    "\n",
    "model.add(\n",
    "    Dense(1,\n",
    "          activation=\"sigmoid\"\n",
    "         )\n",
    ")\n",
    "\n",
    "model.compile(optimizer='rmsprop'\n",
    "             ,loss='binary_crossentropy'\n",
    "              ,metrics=['accuracy']\n",
    "             )"
   ]
  },
  {
   "cell_type": "code",
   "execution_count": 12,
   "id": "7853b370-cf8d-4e67-9c23-397e45911c70",
   "metadata": {},
   "outputs": [
    {
     "name": "stdout",
     "output_type": "stream",
     "text": [
      "Epoch 1/20\n",
      "30/30 [==============================] - 1s 13ms/step - loss: 0.5145 - accuracy: 0.7787 - val_loss: 0.3770 - val_accuracy: 0.8659\n",
      "Epoch 2/20\n",
      "30/30 [==============================] - 0s 8ms/step - loss: 0.2937 - accuracy: 0.9055 - val_loss: 0.3044 - val_accuracy: 0.8823\n",
      "Epoch 3/20\n",
      "30/30 [==============================] - 0s 8ms/step - loss: 0.2133 - accuracy: 0.9298 - val_loss: 0.2751 - val_accuracy: 0.8919\n",
      "Epoch 4/20\n",
      "30/30 [==============================] - 0s 8ms/step - loss: 0.1677 - accuracy: 0.9469 - val_loss: 0.2910 - val_accuracy: 0.8828\n",
      "Epoch 5/20\n",
      "30/30 [==============================] - 0s 9ms/step - loss: 0.1363 - accuracy: 0.9565 - val_loss: 0.2873 - val_accuracy: 0.8880\n",
      "Epoch 6/20\n",
      "30/30 [==============================] - 0s 8ms/step - loss: 0.1116 - accuracy: 0.9652 - val_loss: 0.3000 - val_accuracy: 0.8866\n",
      "Epoch 7/20\n",
      "30/30 [==============================] - 0s 8ms/step - loss: 0.0970 - accuracy: 0.9699 - val_loss: 0.3473 - val_accuracy: 0.8770\n",
      "Epoch 8/20\n",
      "30/30 [==============================] - 0s 8ms/step - loss: 0.0774 - accuracy: 0.9781 - val_loss: 0.3797 - val_accuracy: 0.8717\n",
      "Epoch 9/20\n",
      "30/30 [==============================] - 0s 8ms/step - loss: 0.0638 - accuracy: 0.9838 - val_loss: 0.4234 - val_accuracy: 0.8679\n",
      "Epoch 10/20\n",
      "30/30 [==============================] - 0s 9ms/step - loss: 0.0539 - accuracy: 0.9868 - val_loss: 0.3921 - val_accuracy: 0.8746\n",
      "Epoch 11/20\n",
      "30/30 [==============================] - 0s 8ms/step - loss: 0.0426 - accuracy: 0.9898 - val_loss: 0.4433 - val_accuracy: 0.8712\n",
      "Epoch 12/20\n",
      "30/30 [==============================] - 0s 9ms/step - loss: 0.0381 - accuracy: 0.9901 - val_loss: 0.4452 - val_accuracy: 0.8761\n",
      "Epoch 13/20\n",
      "30/30 [==============================] - 0s 8ms/step - loss: 0.0267 - accuracy: 0.9947 - val_loss: 0.5047 - val_accuracy: 0.8707\n",
      "Epoch 14/20\n",
      "30/30 [==============================] - 0s 9ms/step - loss: 0.0236 - accuracy: 0.9953 - val_loss: 0.5045 - val_accuracy: 0.8725\n",
      "Epoch 15/20\n",
      "30/30 [==============================] - 0s 8ms/step - loss: 0.0165 - accuracy: 0.9977 - val_loss: 0.5845 - val_accuracy: 0.8656\n",
      "Epoch 16/20\n",
      "30/30 [==============================] - 0s 9ms/step - loss: 0.0141 - accuracy: 0.9981 - val_loss: 0.5841 - val_accuracy: 0.8701\n",
      "Epoch 17/20\n",
      "30/30 [==============================] - 0s 9ms/step - loss: 0.0142 - accuracy: 0.9968 - val_loss: 0.6144 - val_accuracy: 0.8696\n",
      "Epoch 18/20\n",
      "30/30 [==============================] - 0s 9ms/step - loss: 0.0061 - accuracy: 0.9993 - val_loss: 0.6481 - val_accuracy: 0.8691\n",
      "Epoch 19/20\n",
      "30/30 [==============================] - 0s 9ms/step - loss: 0.0092 - accuracy: 0.9979 - val_loss: 0.6812 - val_accuracy: 0.8667\n",
      "Epoch 20/20\n",
      "30/30 [==============================] - 0s 9ms/step - loss: 0.0036 - accuracy: 0.9997 - val_loss: 0.7137 - val_accuracy: 0.8663\n"
     ]
    }
   ],
   "source": [
    "history_original = model.fit(X_train, train_label\n",
    "                             , epochs=20, batch_size=512\n",
    "                             , validation_split=0.4\n",
    "                            )"
   ]
  },
  {
   "cell_type": "code",
   "execution_count": 5,
   "id": "75466911-1a55-4546-94da-ef632068aa4a",
   "metadata": {},
   "outputs": [
    {
     "name": "stderr",
     "output_type": "stream",
     "text": [
      "2023-04-18 12:54:22.919431: I tensorflow/core/platform/cpu_feature_guard.cc:193] This TensorFlow binary is optimized with oneAPI Deep Neural Network Library (oneDNN) to use the following CPU instructions in performance-critical operations:  SSE4.1 SSE4.2\n",
      "To enable them in other operations, rebuild TensorFlow with the appropriate compiler flags.\n"
     ]
    }
   ],
   "source": [
    "# Regularization model\n",
    "\n",
    "model = keras.Sequential()\n",
    "\n",
    "model.add(\n",
    "    Dense(16,\n",
    "          kernel_regularizer=regularizers.l2(0.002),\n",
    "          activation=\"relu\"\n",
    "         )\n",
    ")\n",
    "\n",
    "model.add(\n",
    "    Dense(16,\n",
    "          kernel_regularizer=regularizers.l2(0.002),\n",
    "          activation=\"relu\"\n",
    "         )\n",
    ")\n",
    "\n",
    "model.add(\n",
    "    Dense(1,\n",
    "          activation=\"sigmoid\"\n",
    "         )\n",
    ")\n",
    "\n",
    "model.compile(optimizer='rmsprop'\n",
    "             ,loss='binary_crossentropy'\n",
    "              ,metrics=['accuracy']\n",
    "             )"
   ]
  },
  {
   "cell_type": "code",
   "execution_count": 6,
   "id": "4b5fc562-0eda-469a-9d63-b5e83c7f5255",
   "metadata": {},
   "outputs": [
    {
     "name": "stdout",
     "output_type": "stream",
     "text": [
      "Epoch 1/20\n",
      "30/30 [==============================] - 2s 27ms/step - loss: 0.5824 - accuracy: 0.7813 - val_loss: 0.4472 - val_accuracy: 0.8706\n",
      "Epoch 2/20\n",
      "30/30 [==============================] - 0s 9ms/step - loss: 0.3811 - accuracy: 0.8989 - val_loss: 0.3997 - val_accuracy: 0.8698\n",
      "Epoch 3/20\n",
      "30/30 [==============================] - 0s 9ms/step - loss: 0.3200 - accuracy: 0.9173 - val_loss: 0.3656 - val_accuracy: 0.8833\n",
      "Epoch 4/20\n",
      "30/30 [==============================] - 0s 9ms/step - loss: 0.2917 - accuracy: 0.9262 - val_loss: 0.3618 - val_accuracy: 0.8831\n",
      "Epoch 5/20\n",
      "30/30 [==============================] - 0s 9ms/step - loss: 0.2741 - accuracy: 0.9313 - val_loss: 0.3529 - val_accuracy: 0.8910\n",
      "Epoch 6/20\n",
      "30/30 [==============================] - 0s 9ms/step - loss: 0.2602 - accuracy: 0.9379 - val_loss: 0.3569 - val_accuracy: 0.8885\n",
      "Epoch 7/20\n",
      "30/30 [==============================] - 0s 9ms/step - loss: 0.2511 - accuracy: 0.9413 - val_loss: 0.3658 - val_accuracy: 0.8844\n",
      "Epoch 8/20\n",
      "30/30 [==============================] - 0s 9ms/step - loss: 0.2436 - accuracy: 0.9429 - val_loss: 0.4145 - val_accuracy: 0.8656\n",
      "Epoch 9/20\n",
      "30/30 [==============================] - 0s 9ms/step - loss: 0.2368 - accuracy: 0.9473 - val_loss: 0.3704 - val_accuracy: 0.8840\n",
      "Epoch 10/20\n",
      "30/30 [==============================] - 0s 9ms/step - loss: 0.2293 - accuracy: 0.9512 - val_loss: 0.3755 - val_accuracy: 0.8816\n",
      "Epoch 11/20\n",
      "30/30 [==============================] - 0s 9ms/step - loss: 0.2316 - accuracy: 0.9477 - val_loss: 0.3795 - val_accuracy: 0.8797\n",
      "Epoch 12/20\n",
      "30/30 [==============================] - 0s 9ms/step - loss: 0.2219 - accuracy: 0.9523 - val_loss: 0.4019 - val_accuracy: 0.8753\n",
      "Epoch 13/20\n",
      "30/30 [==============================] - 0s 9ms/step - loss: 0.2178 - accuracy: 0.9546 - val_loss: 0.4742 - val_accuracy: 0.8505\n",
      "Epoch 14/20\n",
      "30/30 [==============================] - 0s 9ms/step - loss: 0.2190 - accuracy: 0.9524 - val_loss: 0.4122 - val_accuracy: 0.8742\n",
      "Epoch 15/20\n",
      "30/30 [==============================] - 0s 9ms/step - loss: 0.2121 - accuracy: 0.9559 - val_loss: 0.3980 - val_accuracy: 0.8773\n",
      "Epoch 16/20\n",
      "30/30 [==============================] - 0s 9ms/step - loss: 0.2080 - accuracy: 0.9577 - val_loss: 0.4824 - val_accuracy: 0.8588\n",
      "Epoch 17/20\n",
      "30/30 [==============================] - 0s 9ms/step - loss: 0.2085 - accuracy: 0.9580 - val_loss: 0.4001 - val_accuracy: 0.8790\n",
      "Epoch 18/20\n",
      "30/30 [==============================] - 0s 9ms/step - loss: 0.2074 - accuracy: 0.9554 - val_loss: 0.4179 - val_accuracy: 0.8745\n",
      "Epoch 19/20\n",
      "30/30 [==============================] - 0s 8ms/step - loss: 0.1985 - accuracy: 0.9627 - val_loss: 0.4902 - val_accuracy: 0.8512\n",
      "Epoch 20/20\n",
      "30/30 [==============================] - 0s 9ms/step - loss: 0.2047 - accuracy: 0.9583 - val_loss: 0.4181 - val_accuracy: 0.8749\n"
     ]
    }
   ],
   "source": [
    "history_l2_reg = model.fit(X_train, train_label\n",
    "                             , epochs=20, batch_size=512\n",
    "                             , validation_split=0.4\n",
    "                            )"
   ]
  },
  {
   "cell_type": "code",
   "execution_count": 14,
   "id": "107dbc26-8afd-4906-8e5a-d9f017219d33",
   "metadata": {},
   "outputs": [
    {
     "data": {
      "text/plain": [
       "[0.44718021154403687,\n",
       " 0.39967164397239685,\n",
       " 0.3655543625354767,\n",
       " 0.36180248856544495,\n",
       " 0.3528958559036255,\n",
       " 0.35690298676490784,\n",
       " 0.36580684781074524,\n",
       " 0.4144882261753082,\n",
       " 0.3703542947769165,\n",
       " 0.37550219893455505,\n",
       " 0.37948980927467346,\n",
       " 0.4019307494163513,\n",
       " 0.4742089807987213,\n",
       " 0.4121522903442383,\n",
       " 0.39803773164749146,\n",
       " 0.48238736391067505,\n",
       " 0.4000595211982727,\n",
       " 0.41791534423828125,\n",
       " 0.4902295470237732,\n",
       " 0.4180927276611328]"
      ]
     },
     "execution_count": 14,
     "metadata": {},
     "output_type": "execute_result"
    }
   ],
   "source": [
    "history_l2_reg.history.get('val_loss')"
   ]
  },
  {
   "cell_type": "code",
   "execution_count": 13,
   "id": "84395255-fcf2-42e1-8e70-ca565169a71d",
   "metadata": {},
   "outputs": [
    {
     "data": {
      "text/plain": [
       "dict_keys(['loss', 'accuracy', 'val_loss', 'val_accuracy'])"
      ]
     },
     "execution_count": 13,
     "metadata": {},
     "output_type": "execute_result"
    }
   ],
   "source": [
    "history_original.history.keys()"
   ]
  },
  {
   "cell_type": "code",
   "execution_count": 21,
   "id": "9dfacc92-2a64-4a3d-9f6d-48f0d22e9e68",
   "metadata": {},
   "outputs": [],
   "source": [
    "loss = pd.DataFrame(data=list(zip(history_original.history.get('val_loss'),history_l2_reg.history.get('val_loss'))), columns=['original','regularize'])"
   ]
  },
  {
   "cell_type": "code",
   "execution_count": 22,
   "id": "deba5947-109c-483c-ad2e-32615ecb029a",
   "metadata": {},
   "outputs": [
    {
     "data": {
      "text/plain": [
       "<Axes: >"
      ]
     },
     "execution_count": 22,
     "metadata": {},
     "output_type": "execute_result"
    },
    {
     "data": {
      "image/png": "[encoded data removed]",
      "text/plain": [
       "<Figure size 640x480 with 1 Axes>"
      ]
     },
     "metadata": {},
     "output_type": "display_data"
    }
   ],
   "source": [
    "loss.plot()"
   ]
  },
  {
   "cell_type": "code",
   "execution_count": null,
   "id": "3d5c867d-337b-4d48-a710-f7ae99e814d4",
   "metadata": {},
   "outputs": [],
   "source": []
  }
 ],
 "metadata": {
  "kernelspec": {
   "display_name": "Python 3 (ipykernel)",
   "language": "python",
   "name": "python3"
  },
  "language_info": {
   "codemirror_mode": {
    "name": "ipython",
    "version": 3
   },
   "file_extension": ".py",
   "mimetype": "text/x-python",
   "name": "python",
   "nbconvert_exporter": "python",
   "pygments_lexer": "ipython3",
   "version": "3.10.10"
  }
 },
 "nbformat": 4,
 "nbformat_minor": 5
}
