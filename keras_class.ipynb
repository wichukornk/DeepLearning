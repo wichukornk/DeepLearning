{
 "cells": [
  {
   "cell_type": "code",
   "execution_count": 3,
   "id": "9d984090-3725-4ef4-8d41-91d710bdad05",
   "metadata": {},
   "outputs": [],
   "source": [
    "import tensorflow as tf\n",
    "from tensorflow import keras"
   ]
  },
  {
   "cell_type": "code",
   "execution_count": 4,
   "id": "bb9b45f4-0bc2-4d51-9199-12866e277a6d",
   "metadata": {},
   "outputs": [
    {
     "data": {
      "text/plain": [
       "'2.10.0'"
      ]
     },
     "execution_count": 4,
     "metadata": {},
     "output_type": "execute_result"
    }
   ],
   "source": [
    "tf.__version__"
   ]
  },
  {
   "cell_type": "code",
   "execution_count": 2,
   "id": "2789d58e-a465-4aee-b54b-d7aba7c93a8f",
   "metadata": {},
   "outputs": [
    {
     "data": {
      "text/plain": [
       "'2.10.0'"
      ]
     },
     "execution_count": 2,
     "metadata": {},
     "output_type": "execute_result"
    }
   ],
   "source": [
    "keras.__version__"
   ]
  },
  {
   "cell_type": "code",
   "execution_count": 5,
   "id": "81322c18-619a-4938-bb8d-52bfe06d4b4c",
   "metadata": {},
   "outputs": [],
   "source": [
    "class SimpleDense(keras.layers.Layer):\n",
    "    def __init__(self, units, activation=None):\n",
    "        super().__init__()\n",
    "        self.units = units\n",
    "        self.activation = activation\n",
    "        \n",
    "    def build(self, input_shape):\n",
    "        input_dim = input_shape[-1]\n",
    "        self.W = self.add_weight(shape=(input_dim, self.units),\n",
    "                                initializer=\"random_normal\")\n",
    "        self.b = self.add_weight(shape=(self.units),\n",
    "                                initializer=\"zeros\")\n",
    "        \n",
    "    def call(self, inputs):\n",
    "        y = tf.matmul(inputs,self.W) + self.b\n",
    "        \n",
    "        if self.activation is not None:\n",
    "            y = self.activation(y)\n",
    "            \n",
    "        return y"
   ]
  },
  {
   "cell_type": "code",
   "execution_count": 8,
   "id": "c90161e2-e5ff-47f8-b6b1-e8764807dbf9",
   "metadata": {},
   "outputs": [
    {
     "name": "stderr",
     "output_type": "stream",
     "text": [
      "2023-02-26 09:07:36.410392: I tensorflow/core/platform/cpu_feature_guard.cc:193] This TensorFlow binary is optimized with oneAPI Deep Neural Network Library (oneDNN) to use the following CPU instructions in performance-critical operations:  SSE4.1 SSE4.2\n",
      "To enable them in other operations, rebuild TensorFlow with the appropriate compiler flags.\n"
     ]
    }
   ],
   "source": [
    "my_dense = SimpleDense(units=32, activation=tf.nn.relu)\n",
    "\n",
    "input_tensor = tf.ones(shape=(2,784))"
   ]
  },
  {
   "cell_type": "code",
   "execution_count": 10,
   "id": "6d3ff1ab-7227-4151-9fac-de10b028a95e",
   "metadata": {},
   "outputs": [
    {
     "name": "stdout",
     "output_type": "stream",
     "text": [
      "tf.Tensor(\n",
      "[[1. 1. 1. ... 1. 1. 1.]\n",
      " [1. 1. 1. ... 1. 1. 1.]], shape=(2, 784), dtype=float32)\n"
     ]
    }
   ],
   "source": [
    "print(input_tensor)"
   ]
  },
  {
   "cell_type": "code",
   "execution_count": 11,
   "id": "77e6b438-2209-48e3-b014-a9c81999713b",
   "metadata": {},
   "outputs": [],
   "source": [
    "# W = (784,32)\n",
    "# b = (32,)\n",
    "\n",
    "output_tensor = my_dense(input_tensor)"
   ]
  },
  {
   "cell_type": "code",
   "execution_count": 14,
   "id": "e24262ae-bdfa-46c0-99c8-1107b4f8213a",
   "metadata": {},
   "outputs": [
    {
     "data": {
      "text/plain": [
       "TensorShape([784, 32])"
      ]
     },
     "execution_count": 14,
     "metadata": {},
     "output_type": "execute_result"
    }
   ],
   "source": [
    "my_dense.W.shape"
   ]
  },
  {
   "cell_type": "code",
   "execution_count": 15,
   "id": "a71c4089-a105-49eb-b43d-f87d10970d53",
   "metadata": {},
   "outputs": [
    {
     "data": {
      "text/plain": [
       "<tf.Variable 'simple_dense_1/Variable:0' shape=(784, 32) dtype=float32, numpy=\n",
       "array([[-0.02740622, -0.06080721, -0.01782965, ..., -0.05192655,\n",
       "         0.02794713,  0.05461033],\n",
       "       [-0.08020504,  0.05934129, -0.01324837, ..., -0.01983051,\n",
       "         0.00844802, -0.05417671],\n",
       "       [ 0.02810974,  0.04179709, -0.06390937, ...,  0.03005138,\n",
       "        -0.00991286, -0.00516876],\n",
       "       ...,\n",
       "       [ 0.07412083, -0.01628413,  0.00617072, ...,  0.01345807,\n",
       "         0.1019484 , -0.03426332],\n",
       "       [ 0.01131263,  0.04441418,  0.02229792, ..., -0.04515712,\n",
       "         0.00277336, -0.02032232],\n",
       "       [ 0.03369704, -0.00887015, -0.05466058, ..., -0.00554247,\n",
       "        -0.00432999,  0.00234378]], dtype=float32)>"
      ]
     },
     "execution_count": 15,
     "metadata": {},
     "output_type": "execute_result"
    }
   ],
   "source": [
    "my_dense.W"
   ]
  },
  {
   "cell_type": "code",
   "execution_count": 17,
   "id": "ae9f892e-eb14-4100-8111-4db978079b83",
   "metadata": {},
   "outputs": [
    {
     "data": {
      "text/plain": [
       "TensorShape([32])"
      ]
     },
     "execution_count": 17,
     "metadata": {},
     "output_type": "execute_result"
    }
   ],
   "source": [
    "my_dense.b.shape"
   ]
  },
  {
   "cell_type": "code",
   "execution_count": 18,
   "id": "0dd58b0c-7930-4ae3-abb4-7d1ea8ba7707",
   "metadata": {},
   "outputs": [
    {
     "name": "stdout",
     "output_type": "stream",
     "text": [
      "tf.Tensor(\n",
      "[[0.4972052  0.         0.26203343 0.46193242 0.7118495  1.7098267\n",
      "  2.03727    0.5900648  0.         1.6438937  1.5810475  0.\n",
      "  1.0627902  0.         0.         0.1990368  0.         0.03802975\n",
      "  0.1726898  0.         0.         0.         0.15256983 0.\n",
      "  0.         0.         1.306758   0.35992098 0.49521613 0.\n",
      "  0.         0.8471941 ]\n",
      " [0.4972052  0.         0.26203343 0.46193242 0.7118495  1.7098267\n",
      "  2.03727    0.5900648  0.         1.6438937  1.5810475  0.\n",
      "  1.0627902  0.         0.         0.1990368  0.         0.03802975\n",
      "  0.1726898  0.         0.         0.         0.15256983 0.\n",
      "  0.         0.         1.306758   0.35992098 0.49521613 0.\n",
      "  0.         0.8471941 ]], shape=(2, 32), dtype=float32)\n"
     ]
    }
   ],
   "source": [
    "print(output_tensor)"
   ]
  },
  {
   "cell_type": "code",
   "execution_count": 21,
   "id": "0df0501d-243e-49f6-9312-d573c1781164",
   "metadata": {},
   "outputs": [],
   "source": [
    "from tensorflow.keras import layers, models"
   ]
  },
  {
   "cell_type": "code",
   "execution_count": null,
   "id": "91b24941-8d48-4cb2-8d6c-762555a8f1ac",
   "metadata": {},
   "outputs": [],
   "source": []
  }
 ],
 "metadata": {
  "kernelspec": {
   "display_name": "Python 3 (ipykernel)",
   "language": "python",
   "name": "python3"
  },
  "language_info": {
   "codemirror_mode": {
    "name": "ipython",
    "version": 3
   },
   "file_extension": ".py",
   "mimetype": "text/x-python",
   "name": "python",
   "nbconvert_exporter": "python",
   "pygments_lexer": "ipython3",
   "version": "3.10.8"
  }
 },
 "nbformat": 4,
 "nbformat_minor": 5
}
